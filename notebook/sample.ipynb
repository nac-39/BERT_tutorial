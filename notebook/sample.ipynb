{
 "cells": [
  {
   "cell_type": "markdown",
   "metadata": {},
   "source": [
    "## セットアップ\n",
    "\n",
    "↓こちらを元に実装しています\n",
    "\n",
    "<https://medium.com/data-and-beyond/complete-guide-to-building-bert-model-from-sratch-3e6562228891>"
   ]
  },
  {
   "cell_type": "code",
   "execution_count": 5,
   "metadata": {},
   "outputs": [
    {
     "name": "stdout",
     "output_type": "stream",
     "text": [
      "\u001b[2mResolved \u001b[1m130 packages\u001b[0m \u001b[2min 1ms\u001b[0m\u001b[0m\n",
      "\u001b[2mAudited \u001b[1m119 packages\u001b[0m \u001b[2min 0.34ms\u001b[0m\u001b[0m\n",
      "--2024-10-17 14:43:11--  http://www.cs.cornell.edu/~cristian/data/cornell_movie_dialogs_corpus.zip\n",
      "www.cs.cornell.edu (www.cs.cornell.edu) をDNSに問いあわせています... 132.236.207.53\n",
      "www.cs.cornell.edu (www.cs.cornell.edu)|132.236.207.53|:80 に接続しています... 接続しました。\n",
      "HTTP による接続要求を送信しました、応答を待っています... 301 Moved Permanently\n",
      "場所: https://www.cs.cornell.edu/~cristian/data/cornell_movie_dialogs_corpus.zip [続く]\n",
      "--2024-10-17 14:43:12--  https://www.cs.cornell.edu/~cristian/data/cornell_movie_dialogs_corpus.zip\n",
      "www.cs.cornell.edu (www.cs.cornell.edu)|132.236.207.53|:443 に接続しています... 接続しました。\n",
      "HTTP による接続要求を送信しました、応答を待っています... 200 OK\n",
      "長さ: 9916637 (9.5M) [application/zip]\n",
      "`cornell_movie_dialogs_corpus.zip' に保存中\n",
      "\n",
      "100%[======================================>] 9,916,637   3.92MB/s 時間 2.4s     \n",
      "\n",
      "2024-10-17 14:43:16 (3.92 MB/s) - `cornell_movie_dialogs_corpus.zip' へ保存完了 [9916637/9916637]\n",
      "\n",
      "replace cornell movie-dialogs corpus/.DS_Store? [y]es, [n]o, [A]ll, [N]one, [r]ename: ^C\n",
      "/bin/bash: [-d: コマンドが見つかりません\n",
      "mv: `cornell movie-dialogs corpus/movie_conversations.txt' を stat できません: そのようなファイルやディレクトリはありません\n",
      "mv: `cornell movie-dialogs corpus/movie_lines.txt' を stat できません: そのようなファイルやディレクトリはありません\n"
     ]
    }
   ],
   "source": [
    "!uv add  transformers datasets tokenizers\n",
    "!export PROJECT_ROOT=$(pwd)/../\n",
    "\n",
    "!wget http://www.cs.cornell.edu/~cristian/data/cornell_movie_dialogs_corpus.zip\n",
    "!unzip -qq cornell_movie_dialogs_corpus.zip\n",
    "!rm cornell_movie_dialogs_corpus.zip\n",
    "!if [-d $PROJECT_ROOT/datasets ]; then mkdir datasets ; fi\n",
    "!mv cornell\\ movie-dialogs\\ corpus/movie_conversations.txt $PROJECT_ROOT/datasets\n",
    "!mv cornell\\ movie-dialogs\\ corpus/movie_lines.txt $PROJECT_ROOT/datasets\n"
   ]
  },
  {
   "cell_type": "markdown",
   "metadata": {},
   "source": [
    "## ダウンロードしたデータセットの形式\n",
    "\n",
    "今回は「Cornel Movie-Dialogs Corpus」を用います。\n",
    "\n",
    "[こちらより](https://arc.net/l/quote/telfmlkx)：\n",
    "\n",
    "> For our tutorial, we will be utilizing the Cornell Movie-Dialogs Corpus, a vast collection of over 220,000 conversational exchanges between more than 10,000 pairs of characters in various movies and TV shows.\n",
    "\n",
    "DeepL先生\n",
    "> このチュートリアルでは、コーネル・ムービー・ダイアログ・コーパスを利用します。コーネル・ムービー・ダイアログ・コーパスは、様々な映画やテレビ番組に登場する10,000組以上のキャラクター間の220,000以上の会話のやり取りを収録した膨大なコレクションです。\n",
    "\n",
    "続いて、各データの形式を確認していきます。\n"
   ]
  },
  {
   "cell_type": "markdown",
   "metadata": {},
   "source": [
    "### 1. movie_conversations.txt"
   ]
  },
  {
   "cell_type": "code",
   "execution_count": 4,
   "metadata": {
    "vscode": {
     "languageId": "shellscript"
    }
   },
   "outputs": [
    {
     "name": "stdout",
     "output_type": "stream",
     "text": [
      "u0 +++$+++ u2 +++$+++ m0 +++$+++ ['L194', 'L195', 'L196', 'L197']\n",
      "u0 +++$+++ u2 +++$+++ m0 +++$+++ ['L198', 'L199']\n",
      "u0 +++$+++ u2 +++$+++ m0 +++$+++ ['L200', 'L201', 'L202', 'L203']\n",
      "u0 +++$+++ u2 +++$+++ m0 +++$+++ ['L204', 'L205', 'L206']\n",
      "u0 +++$+++ u2 +++$+++ m0 +++$+++ ['L207', 'L208']\n",
      "u0 +++$+++ u2 +++$+++ m0 +++$+++ ['L271', 'L272', 'L273', 'L274', 'L275']\n",
      "u0 +++$+++ u2 +++$+++ m0 +++$+++ ['L276', 'L277']\n",
      "u0 +++$+++ u2 +++$+++ m0 +++$+++ ['L280', 'L281']\n",
      "u0 +++$+++ u2 +++$+++ m0 +++$+++ ['L363', 'L364']\n",
      "u0 +++$+++ u2 +++$+++ m0 +++$+++ ['L365', 'L366']\n"
     ]
    }
   ],
   "source": [
    "!less ./datasets/movie_conversations.txt | head -n 10"
   ]
  },
  {
   "cell_type": "code",
   "execution_count": null,
   "metadata": {
    "vscode": {
     "languageId": "shellscript"
    }
   },
   "outputs": [],
   "source": []
  }
 ],
 "metadata": {
  "kernelspec": {
   "display_name": ".venv",
   "language": "python",
   "name": "python3"
  },
  "language_info": {
   "codemirror_mode": {
    "name": "ipython",
    "version": 3
   },
   "file_extension": ".py",
   "mimetype": "text/x-python",
   "name": "python",
   "nbconvert_exporter": "python",
   "pygments_lexer": "ipython3",
   "version": "3.11.10"
  }
 },
 "nbformat": 4,
 "nbformat_minor": 2
}
